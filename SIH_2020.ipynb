{
  "nbformat": 4,
  "nbformat_minor": 0,
  "metadata": {
    "accelerator": "GPU",
    "colab": {
      "name": "SIH 2020.ipynb",
      "provenance": [],
      "private_outputs": true,
      "collapsed_sections": [],
      "toc_visible": true
    },
    "kernelspec": {
      "name": "python3",
      "display_name": "Python 3"
    },
    "language_info": {
      "codemirror_mode": {
        "name": "ipython",
        "version": 3
      },
      "file_extension": ".py",
      "mimetype": "text/x-python",
      "name": "python",
      "nbconvert_exporter": "python",
      "pygments_lexer": "ipython3",
      "version": "3.7.4"
    }
  },
  "cells": [
    {
      "cell_type": "code",
      "metadata": {
        "id": "b5t2sHwIHYZQ",
        "colab_type": "code",
        "colab": {}
      },
      "source": [
        "from google.colab import drive\n",
        "drive.mount('/content/drive')"
      ],
      "execution_count": null,
      "outputs": []
    },
    {
      "cell_type": "code",
      "metadata": {
        "id": "bOpJA3vkIKjn",
        "colab_type": "code",
        "colab": {}
      },
      "source": [
        "!unzip drive/My\\ Drive/Datasets/SIH\\ 2020/images.zip"
      ],
      "execution_count": null,
      "outputs": []
    },
    {
      "cell_type": "code",
      "metadata": {
        "id": "NgKHOzXIHOR9",
        "colab_type": "code",
        "colab": {}
      },
      "source": [
        "import tensorflow as tf\n",
        "import numpy as np\n",
        "import matplotlib.pyplot as plt\n",
        "import pathlib\n",
        "import sys\n",
        "import os\n",
        "from PIL import ImageFile\n",
        "ImageFile.LOAD_TRUNCATED_IMAGES = True"
      ],
      "execution_count": null,
      "outputs": []
    },
    {
      "cell_type": "code",
      "metadata": {
        "id": "a5BjydydHOSB",
        "colab_type": "code",
        "colab": {}
      },
      "source": [
        "from tensorflow.keras.models import Sequential\n",
        "from tensorflow.keras.layers import Dense, Conv2D, Flatten, Dropout, MaxPooling2D\n",
        "from tensorflow.keras.preprocessing.image import ImageDataGenerator"
      ],
      "execution_count": null,
      "outputs": []
    },
    {
      "cell_type": "markdown",
      "metadata": {
        "id": "40hHZL3CHOSE",
        "colab_type": "text"
      },
      "source": [
        "## Accessing Image Data"
      ]
    },
    {
      "cell_type": "code",
      "metadata": {
        "id": "0fwOOxDNHOSE",
        "colab_type": "code",
        "colab": {}
      },
      "source": [
        "training_data_dir = pathlib.Path('/content/newImg/training')\n",
        "validation_data_dir = pathlib.Path('/content/newImg/cross_val/')\n",
        "print(training_data_dir)\n",
        "print(validation_data_dir)"
      ],
      "execution_count": null,
      "outputs": []
    },
    {
      "cell_type": "code",
      "metadata": {
        "id": "O5_7SC52HOSI",
        "colab_type": "code",
        "colab": {}
      },
      "source": [
        "training_image_count = len(list(training_data_dir.glob('*/*.jpg')))\n",
        "validation_image_count = len(list(validation_data_dir.glob('*/*.jpg')))\n",
        "print('Total number of training images we have: ',training_image_count)\n",
        "print('Total number of validation images we have: ',validation_image_count)"
      ],
      "execution_count": null,
      "outputs": []
    },
    {
      "cell_type": "code",
      "metadata": {
        "id": "6J9h_uTDHOSK",
        "colab_type": "code",
        "colab": {}
      },
      "source": [
        "CLASS_NAMES = np.array([item.name for item in training_data_dir.glob('*') if item.name != \".DS_Store\" ])\n",
        "CLASS_NAMES"
      ],
      "execution_count": null,
      "outputs": []
    },
    {
      "cell_type": "markdown",
      "metadata": {
        "id": "NLGG2o1wHOSM",
        "colab_type": "text"
      },
      "source": [
        "## Loading Image Data"
      ]
    },
    {
      "cell_type": "code",
      "metadata": {
        "id": "k4zPq96NHOSN",
        "colab_type": "code",
        "colab": {}
      },
      "source": [
        "train_image_generator = tf.keras.preprocessing.image.ImageDataGenerator(rescale=1./255,\n",
        "                    rotation_range=45,\n",
        "                    width_shift_range=.15,\n",
        "                    height_shift_range=.15,\n",
        "                    horizontal_flip=True,\n",
        "                    zoom_range=0.5)"
      ],
      "execution_count": null,
      "outputs": []
    },
    {
      "cell_type": "code",
      "metadata": {
        "colab_type": "code",
        "id": "IZJZDNEwNiXM",
        "colab": {}
      },
      "source": [
        "validation_image_generator = tf.keras.preprocessing.image.ImageDataGenerator(rescale=1./255)"
      ],
      "execution_count": null,
      "outputs": []
    },
    {
      "cell_type": "code",
      "metadata": {
        "id": "mFpBY9o1HOSP",
        "colab_type": "code",
        "colab": {}
      },
      "source": [
        "BATCH_SIZE = 32\n",
        "IMG_HEIGHT = 224\n",
        "IMG_WIDTH = 224\n",
        "STEPS_PER_EPOCH = np.ceil(training_image_count/BATCH_SIZE)"
      ],
      "execution_count": null,
      "outputs": []
    },
    {
      "cell_type": "code",
      "metadata": {
        "id": "M4qvREJ0HOSR",
        "colab_type": "code",
        "colab": {}
      },
      "source": [
        "train_data_gen = train_image_generator.flow_from_directory(directory=str(training_data_dir),\n",
        "                                                     batch_size=BATCH_SIZE,\n",
        "                                                     shuffle=True,\n",
        "                                                     target_size=(IMG_HEIGHT, IMG_WIDTH),\n",
        "                                                     classes = list(CLASS_NAMES))"
      ],
      "execution_count": null,
      "outputs": []
    },
    {
      "cell_type": "code",
      "metadata": {
        "id": "pf2juJj7HOST",
        "colab_type": "code",
        "colab": {}
      },
      "source": [
        "validation_data_gen = validation_image_generator.flow_from_directory(directory=str(validation_data_dir),\n",
        "                                                     batch_size=BATCH_SIZE,\n",
        "                                                     shuffle=True,\n",
        "                                                     target_size=(IMG_HEIGHT, IMG_WIDTH),\n",
        "                                                     classes = list(CLASS_NAMES))"
      ],
      "execution_count": null,
      "outputs": []
    },
    {
      "cell_type": "code",
      "metadata": {
        "id": "X_G0wOjkHOSV",
        "colab_type": "code",
        "colab": {}
      },
      "source": [
        "#Testing\n",
        "image,label = next(train_data_gen)\n",
        "image.shape"
      ],
      "execution_count": null,
      "outputs": []
    },
    {
      "cell_type": "code",
      "metadata": {
        "id": "_kSllZYcHOSX",
        "colab_type": "code",
        "colab": {}
      },
      "source": [
        "def show_batch(image_batch, label_batch):\n",
        "  plt.figure(figsize=(10,10))\n",
        "  for n in range(25):\n",
        "      ax = plt.subplot(5,5,n+1)\n",
        "      plt.imshow(image_batch[n])\n",
        "      plt.title(CLASS_NAMES[label_batch[n]==1][0].title())\n",
        "      plt.axis('off')"
      ],
      "execution_count": null,
      "outputs": []
    },
    {
      "cell_type": "code",
      "metadata": {
        "scrolled": true,
        "id": "PJEudkERHOSZ",
        "colab_type": "code",
        "colab": {}
      },
      "source": [
        "image_batch, label_batch = next(train_data_gen)\n",
        "show_batch(image_batch, label_batch)"
      ],
      "execution_count": null,
      "outputs": []
    },
    {
      "cell_type": "markdown",
      "metadata": {
        "id": "CjEizTxTHOSb",
        "colab_type": "text"
      },
      "source": [
        "# Model"
      ]
    },
    {
      "cell_type": "markdown",
      "metadata": {
        "id": "HOX1ElVtHOSc",
        "colab_type": "text"
      },
      "source": [
        "## Pretrained Model (Feature extractor)"
      ]
    },
    {
      "cell_type": "code",
      "metadata": {
        "id": "mLw0acv3HOSd",
        "colab_type": "code",
        "colab": {}
      },
      "source": [
        "def getPretrainedModel(model='resnet50'):\n",
        "    IMG_SHAPE = (IMG_HEIGHT, IMG_WIDTH, 3)\n",
        "    if model=='resnet50':\n",
        "        base_model = tf.keras.applications.ResNet50(input_shape=IMG_SHAPE,\n",
        "                                                    include_top=False,\n",
        "                                                    weights='imagenet')\n",
        "    elif model=='vgg16':\n",
        "        base_model = tf.keras.applications.VGG16(input_shape=IMG_SHAPE,\n",
        "                                                    include_top=False,\n",
        "                                                    weights='imagenet')\n",
        "    elif model=='vgg19':\n",
        "        base_model = tf.keras.applications.VGG19(input_shape = IMG_SHAPE,\n",
        "                                               include_top = False,\n",
        "                                               weights = 'imagenet')\n",
        "    \n",
        "    elif model=='mobileNet':\n",
        "        base_model = tf.keras.applications.MobileNet(input_shape = IMG_SHAPE,\n",
        "                                                     include_top = False,\n",
        "                                                     weights = 'imagenet')    \n",
        "\n",
        "    elif model=='inceptionV3':\n",
        "        base_model = tf.keras.applications.InceptionV3(input_shape=IMG_SHAPE,\n",
        "                                                    include_top=False,\n",
        "                                                    weights='imagenet')    \n",
        "    elif model=='DenseNet121':\n",
        "        base_model = tf.keras.applications.DenseNet121(input_shape=IMG_SHAPE,\n",
        "                                                    include_top=False,\n",
        "                                                    weights='imagenet')\n",
        "    base_model.trainable = False\n",
        "    return base_model"
      ],
      "execution_count": null,
      "outputs": []
    },
    {
      "cell_type": "markdown",
      "metadata": {
        "id": "JYIAUyoCHOSf",
        "colab_type": "text"
      },
      "source": [
        "## Classifier"
      ]
    },
    {
      "cell_type": "code",
      "metadata": {
        "id": "YMyq56aPHOSf",
        "colab_type": "code",
        "colab": {}
      },
      "source": [
        "def createModel():\n",
        "    model = Sequential([\n",
        "        Flatten(),\n",
        "        Dense(1024, activation='relu'),   #added\n",
        "        Dense(512, activation='relu'),\n",
        "        Dense(256, activation='relu'),\n",
        "        Dense(128, activation='relu'),\n",
        "        Dense(64, activation='relu'), #added\n",
        "        Dense(10, activation='softmax') \n",
        "    ])\n",
        "    return model\n",
        "\n",
        "#classifier_model = createModel()"
      ],
      "execution_count": null,
      "outputs": []
    },
    {
      "cell_type": "markdown",
      "metadata": {
        "id": "MIQ6hWTjHOSh",
        "colab_type": "text"
      },
      "source": [
        "## Select Base Model"
      ]
    },
    {
      "cell_type": "code",
      "metadata": {
        "id": "1V0L2uf-HOSi",
        "colab_type": "code",
        "colab": {}
      },
      "source": [
        "base_model = getPretrainedModel('mobileNet')\n",
        "classifier_model = createModel()"
      ],
      "execution_count": null,
      "outputs": []
    },
    {
      "cell_type": "code",
      "metadata": {
        "id": "XMilAmIZHOSl",
        "colab_type": "code",
        "colab": {}
      },
      "source": [
        "model = tf.keras.Sequential([\n",
        "    base_model,\n",
        "    classifier_model\n",
        "])\n",
        "\n",
        "optRms = tf.keras.optimizers.RMSprop(learning_rate=0.001)\n",
        "\n",
        "optAdam = tf.keras.optimizers.Adam(learning_rate=0.001)\n",
        "\n",
        "model.compile(optimizer=optRms,\n",
        "          loss='categorical_crossentropy',\n",
        "          metrics=['accuracy'])\n",
        "model.summary()"
      ],
      "execution_count": null,
      "outputs": []
    },
    {
      "cell_type": "code",
      "metadata": {
        "id": "4wzXkJ7lHOSn",
        "colab_type": "code",
        "colab": {}
      },
      "source": [
        "history = model.fit_generator(\n",
        "    train_data_gen,\n",
        "    steps_per_epoch=training_image_count // BATCH_SIZE,\n",
        "    epochs=20,\n",
        "    validation_data = validation_data_gen,\n",
        "    validation_steps=validation_image_count // BATCH_SIZE,\n",
        "    shuffle=True\n",
        ")"
      ],
      "execution_count": null,
      "outputs": []
    },
    {
      "cell_type": "markdown",
      "metadata": {
        "id": "IONsJemDHOSq",
        "colab_type": "text"
      },
      "source": [
        "## Visualize training results"
      ]
    },
    {
      "cell_type": "code",
      "metadata": {
        "id": "o6zoVYdXHOSt",
        "colab_type": "code",
        "colab": {}
      },
      "source": [
        "acc = history.history['acc']\n",
        "val_acc = history.history['val_acc']\n",
        "\n",
        "loss = history.history['loss']\n",
        "val_loss = history.history['val_loss']\n",
        "\n",
        "plt.figure(figsize=(8, 8))\n",
        "plt.subplot(2, 1, 1)\n",
        "plt.plot(acc, label='Training Accuracy')\n",
        "plt.plot(val_acc, label='Validation Accuracy')\n",
        "plt.legend(loc='lower right')\n",
        "plt.ylabel('Accuracy')\n",
        "plt.ylim([min(plt.ylim()),1])\n",
        "plt.title('Training and Validation Accuracy')\n",
        "\"\"\"\n",
        "plt.subplot(2, 1, 2)\n",
        "plt.plot(loss, label='Training Loss')\n",
        "# plt.plot(val_loss, label='Validation Loss')\n",
        "plt.legend(loc='upper right')\n",
        "plt.ylabel('Cross Entropy')\n",
        "plt.ylim([0,1.0])\n",
        "plt.title('Training and Validation Loss')\n",
        "plt.xlabel('epoch')\n",
        "plt.show()\n",
        "\"\"\"\n"
      ],
      "execution_count": null,
      "outputs": []
    },
    {
      "cell_type": "markdown",
      "metadata": {
        "id": "--KABaKDHOSw",
        "colab_type": "text"
      },
      "source": [
        "## Saving Model after every epoch"
      ]
    },
    {
      "cell_type": "code",
      "metadata": {
        "id": "SgZG4LP5HOSw",
        "colab_type": "code",
        "colab": {}
      },
      "source": [
        "saved_dir = \"/content/drive/My Drive/\"\n",
        "name = 'mobileNet'\n",
        "model.save_weights(saved_dir+name)\n",
        "print(saved_dir+name)"
      ],
      "execution_count": null,
      "outputs": []
    },
    {
      "cell_type": "markdown",
      "metadata": {
        "id": "UKEp1GmtHOSy",
        "colab_type": "text"
      },
      "source": [
        "## Load Model"
      ]
    },
    {
      "cell_type": "code",
      "metadata": {
        "id": "o3rtkDuKHOSz",
        "colab_type": "code",
        "colab": {}
      },
      "source": [
        "# Create a new model instance\n",
        "model = createModel()\n",
        "\n",
        "# Restore the weights\n",
        "model.load_weights(saved_dir+name)\n",
        "\n",
        "# Re-evaluate the model\n",
        "loss,acc = model.evaluate(validation_data_gen)\n",
        "print(\"Restored model, accuracy: {:5.2f}%\".format(100*acc))"
      ],
      "execution_count": null,
      "outputs": []
    },
    {
      "cell_type": "markdown",
      "metadata": {
        "id": "DHA_vSfpHOS1",
        "colab_type": "text"
      },
      "source": [
        "## Export Trained Model"
      ]
    },
    {
      "cell_type": "code",
      "metadata": {
        "id": "pwBNvMgbHOS3",
        "colab_type": "code",
        "colab": {}
      },
      "source": [
        "tf.saved_model.save(model, \"/content/exported_models\")\n",
        "!zip -r /content/exported_zip.zip /content/exported_models"
      ],
      "execution_count": null,
      "outputs": []
    },
    {
      "cell_type": "code",
      "metadata": {
        "id": "9MzDkDlCHOS6",
        "colab_type": "code",
        "colab": {}
      },
      "source": [
        "#Download exported ZIP file\n",
        "from google.colab import files\n",
        "files.download(\"/content/exported_zip.zip\")"
      ],
      "execution_count": null,
      "outputs": []
    },
    {
      "cell_type": "markdown",
      "metadata": {
        "id": "72NGyhC_aSas",
        "colab_type": "text"
      },
      "source": [
        "###Convert Model to Mobile model"
      ]
    },
    {
      "cell_type": "code",
      "metadata": {
        "id": "KLcX4GNjaXfm",
        "colab_type": "code",
        "colab": {}
      },
      "source": [
        "import tensorflow as tf\n",
        "\n",
        "converter = tf.lite.TFLiteConverter.from_saved_model(saved_model_dir)\n",
        "tflite_model = converter.convert()\n",
        "open(\"converted_model.tflite\", \"wb\").write(tflite_model)"
      ],
      "execution_count": null,
      "outputs": []
    }
  ]
}